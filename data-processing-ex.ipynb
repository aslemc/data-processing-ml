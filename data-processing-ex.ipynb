{
 "cells": [
  {
   "cell_type": "code",
   "execution_count": 2,
   "metadata": {},
   "outputs": [],
   "source": [
    "# import the raw dataset into a pandas dataframe\n",
    "import pandas as pd\n",
    "songs = pd.read_csv('ml-03-data-processing-songs-dataset.csv')"
   ]
  },
  {
   "cell_type": "code",
   "execution_count": 3,
   "metadata": {},
   "outputs": [
    {
     "name": "stdout",
     "output_type": "stream",
     "text": [
      "<class 'pandas.core.frame.DataFrame'>\n",
      "RangeIndex: 1994 entries, 0 to 1993\n",
      "Data columns (total 16 columns):\n",
      " #   Column                  Non-Null Count  Dtype  \n",
      "---  ------                  --------------  -----  \n",
      " 0   Index                   1994 non-null   int64  \n",
      " 1   Title                   1991 non-null   object \n",
      " 2   Artist                  1986 non-null   object \n",
      " 3   Top Genre               1986 non-null   object \n",
      " 4   Year                    1987 non-null   float64\n",
      " 5   Month                   1994 non-null   object \n",
      " 6   Beats Per Minute (BPM)  1985 non-null   float64\n",
      " 7   Energy                  1986 non-null   float64\n",
      " 8   Danceability            970 non-null    float64\n",
      " 9   Loudness (dB)           1987 non-null   float64\n",
      " 10  Liveness                1986 non-null   float64\n",
      " 11  Valence                 960 non-null    float64\n",
      " 12  Length (Duration)       1985 non-null   object \n",
      " 13  Acousticness            1986 non-null   float64\n",
      " 14  Speechiness             1990 non-null   float64\n",
      " 15  Popularity              1987 non-null   float64\n",
      "dtypes: float64(10), int64(1), object(5)\n",
      "memory usage: 249.4+ KB\n"
     ]
    }
   ],
   "source": [
    "# exploratory analysis, fix issues as you come across them\n",
    "import matplotlib as plt\n",
    "\n",
    "songs.info()"
   ]
  },
  {
   "cell_type": "code",
   "execution_count": 18,
   "metadata": {},
   "outputs": [
    {
     "ename": "AttributeError",
     "evalue": "'int' object has no attribute 'isnumeric'",
     "output_type": "error",
     "traceback": [
      "\u001b[1;31m---------------------------------------------------------------------------\u001b[0m",
      "\u001b[1;31mAttributeError\u001b[0m                            Traceback (most recent call last)",
      "\u001b[1;32mc:\\Users\\Elsa Carlson\\Documents\\Week9-ML\\data-processing-ex.ipynb Cell 3\u001b[0m in \u001b[0;36m<cell line: 3>\u001b[1;34m()\u001b[0m\n\u001b[0;32m      <a href='vscode-notebook-cell:/c%3A/Users/Elsa%20Carlson/Documents/Week9-ML/data-processing-ex.ipynb#W2sZmlsZQ%3D%3D?line=0'>1</a>\u001b[0m \u001b[39mfrom\u001b[39;00m \u001b[39mdatetime\u001b[39;00m \u001b[39mimport\u001b[39;00m datetime\n\u001b[1;32m----> <a href='vscode-notebook-cell:/c%3A/Users/Elsa%20Carlson/Documents/Week9-ML/data-processing-ex.ipynb#W2sZmlsZQ%3D%3D?line=2'>3</a>\u001b[0m songs[\u001b[39m'\u001b[39m\u001b[39mMonth\u001b[39m\u001b[39m'\u001b[39m] \u001b[39m=\u001b[39m songs[\u001b[39m'\u001b[39;49m\u001b[39mMonth\u001b[39;49m\u001b[39m'\u001b[39;49m]\u001b[39m.\u001b[39;49m\\\n\u001b[0;32m      <a href='vscode-notebook-cell:/c%3A/Users/Elsa%20Carlson/Documents/Week9-ML/data-processing-ex.ipynb#W2sZmlsZQ%3D%3D?line=3'>4</a>\u001b[0m     \u001b[39mmap\u001b[39;49m(\u001b[39mlambda\u001b[39;49;00m x: datetime\u001b[39m.\u001b[39;49mstrptime(x,\u001b[39m'\u001b[39;49m\u001b[39m%\u001b[39;49m\u001b[39mb\u001b[39;49m\u001b[39m'\u001b[39;49m)\u001b[39m.\u001b[39;49mstrftime(\u001b[39m'\u001b[39;49m\u001b[39m%\u001b[39;49m\u001b[39mm\u001b[39;49m\u001b[39m'\u001b[39;49m) \u001b[39mif\u001b[39;49;00m x\u001b[39m.\u001b[39;49misnumeric()\u001b[39m==\u001b[39;49m\u001b[39mFalse\u001b[39;49;00m \u001b[39melse\u001b[39;49;00m x)\n\u001b[0;32m      <a href='vscode-notebook-cell:/c%3A/Users/Elsa%20Carlson/Documents/Week9-ML/data-processing-ex.ipynb#W2sZmlsZQ%3D%3D?line=4'>5</a>\u001b[0m songs[\u001b[39m'\u001b[39m\u001b[39mMonth\u001b[39m\u001b[39m'\u001b[39m] \u001b[39m=\u001b[39m songs[\u001b[39m'\u001b[39m\u001b[39mMonth\u001b[39m\u001b[39m'\u001b[39m]\u001b[39m.\u001b[39mastype(\u001b[39mint\u001b[39m)\n\u001b[0;32m      <a href='vscode-notebook-cell:/c%3A/Users/Elsa%20Carlson/Documents/Week9-ML/data-processing-ex.ipynb#W2sZmlsZQ%3D%3D?line=5'>6</a>\u001b[0m \u001b[39m# change month string to month number\u001b[39;00m\n",
      "File \u001b[1;32mc:\\anaconda\\lib\\site-packages\\pandas\\core\\series.py:4237\u001b[0m, in \u001b[0;36mSeries.map\u001b[1;34m(self, arg, na_action)\u001b[0m\n\u001b[0;32m   4162\u001b[0m \u001b[39mdef\u001b[39;00m \u001b[39mmap\u001b[39m(\u001b[39mself\u001b[39m, arg, na_action\u001b[39m=\u001b[39m\u001b[39mNone\u001b[39;00m) \u001b[39m-\u001b[39m\u001b[39m>\u001b[39m Series:\n\u001b[0;32m   4163\u001b[0m     \u001b[39m\"\"\"\u001b[39;00m\n\u001b[0;32m   4164\u001b[0m \u001b[39m    Map values of Series according to an input mapping or function.\u001b[39;00m\n\u001b[0;32m   4165\u001b[0m \n\u001b[1;32m   (...)\u001b[0m\n\u001b[0;32m   4235\u001b[0m \u001b[39m    dtype: object\u001b[39;00m\n\u001b[0;32m   4236\u001b[0m \u001b[39m    \"\"\"\u001b[39;00m\n\u001b[1;32m-> 4237\u001b[0m     new_values \u001b[39m=\u001b[39m \u001b[39mself\u001b[39;49m\u001b[39m.\u001b[39;49m_map_values(arg, na_action\u001b[39m=\u001b[39;49mna_action)\n\u001b[0;32m   4238\u001b[0m     \u001b[39mreturn\u001b[39;00m \u001b[39mself\u001b[39m\u001b[39m.\u001b[39m_constructor(new_values, index\u001b[39m=\u001b[39m\u001b[39mself\u001b[39m\u001b[39m.\u001b[39mindex)\u001b[39m.\u001b[39m__finalize__(\n\u001b[0;32m   4239\u001b[0m         \u001b[39mself\u001b[39m, method\u001b[39m=\u001b[39m\u001b[39m\"\u001b[39m\u001b[39mmap\u001b[39m\u001b[39m\"\u001b[39m\n\u001b[0;32m   4240\u001b[0m     )\n",
      "File \u001b[1;32mc:\\anaconda\\lib\\site-packages\\pandas\\core\\base.py:880\u001b[0m, in \u001b[0;36mIndexOpsMixin._map_values\u001b[1;34m(self, mapper, na_action)\u001b[0m\n\u001b[0;32m    877\u001b[0m         \u001b[39mraise\u001b[39;00m \u001b[39mValueError\u001b[39;00m(msg)\n\u001b[0;32m    879\u001b[0m \u001b[39m# mapper is a function\u001b[39;00m\n\u001b[1;32m--> 880\u001b[0m new_values \u001b[39m=\u001b[39m map_f(values, mapper)\n\u001b[0;32m    882\u001b[0m \u001b[39mreturn\u001b[39;00m new_values\n",
      "File \u001b[1;32mc:\\anaconda\\lib\\site-packages\\pandas\\_libs\\lib.pyx:2870\u001b[0m, in \u001b[0;36mpandas._libs.lib.map_infer\u001b[1;34m()\u001b[0m\n",
      "\u001b[1;32mc:\\Users\\Elsa Carlson\\Documents\\Week9-ML\\data-processing-ex.ipynb Cell 3\u001b[0m in \u001b[0;36m<lambda>\u001b[1;34m(x)\u001b[0m\n\u001b[0;32m      <a href='vscode-notebook-cell:/c%3A/Users/Elsa%20Carlson/Documents/Week9-ML/data-processing-ex.ipynb#W2sZmlsZQ%3D%3D?line=0'>1</a>\u001b[0m \u001b[39mfrom\u001b[39;00m \u001b[39mdatetime\u001b[39;00m \u001b[39mimport\u001b[39;00m datetime\n\u001b[0;32m      <a href='vscode-notebook-cell:/c%3A/Users/Elsa%20Carlson/Documents/Week9-ML/data-processing-ex.ipynb#W2sZmlsZQ%3D%3D?line=2'>3</a>\u001b[0m songs[\u001b[39m'\u001b[39m\u001b[39mMonth\u001b[39m\u001b[39m'\u001b[39m] \u001b[39m=\u001b[39m songs[\u001b[39m'\u001b[39m\u001b[39mMonth\u001b[39m\u001b[39m'\u001b[39m]\u001b[39m.\u001b[39m\\\n\u001b[1;32m----> <a href='vscode-notebook-cell:/c%3A/Users/Elsa%20Carlson/Documents/Week9-ML/data-processing-ex.ipynb#W2sZmlsZQ%3D%3D?line=3'>4</a>\u001b[0m     \u001b[39mmap\u001b[39m(\u001b[39mlambda\u001b[39;00m x: datetime\u001b[39m.\u001b[39mstrptime(x,\u001b[39m'\u001b[39m\u001b[39m%\u001b[39m\u001b[39mb\u001b[39m\u001b[39m'\u001b[39m)\u001b[39m.\u001b[39mstrftime(\u001b[39m'\u001b[39m\u001b[39m%\u001b[39m\u001b[39mm\u001b[39m\u001b[39m'\u001b[39m) \u001b[39mif\u001b[39;00m x\u001b[39m.\u001b[39;49misnumeric()\u001b[39m==\u001b[39m\u001b[39mFalse\u001b[39;00m \u001b[39melse\u001b[39;00m x)\n\u001b[0;32m      <a href='vscode-notebook-cell:/c%3A/Users/Elsa%20Carlson/Documents/Week9-ML/data-processing-ex.ipynb#W2sZmlsZQ%3D%3D?line=4'>5</a>\u001b[0m songs[\u001b[39m'\u001b[39m\u001b[39mMonth\u001b[39m\u001b[39m'\u001b[39m] \u001b[39m=\u001b[39m songs[\u001b[39m'\u001b[39m\u001b[39mMonth\u001b[39m\u001b[39m'\u001b[39m]\u001b[39m.\u001b[39mastype(\u001b[39mint\u001b[39m)\n\u001b[0;32m      <a href='vscode-notebook-cell:/c%3A/Users/Elsa%20Carlson/Documents/Week9-ML/data-processing-ex.ipynb#W2sZmlsZQ%3D%3D?line=5'>6</a>\u001b[0m \u001b[39m# change month string to month number\u001b[39;00m\n",
      "\u001b[1;31mAttributeError\u001b[0m: 'int' object has no attribute 'isnumeric'"
     ]
    }
   ],
   "source": [
    "from datetime import datetime\n",
    "\n",
    "songs['Month'] = songs['Month'].\\\n",
    "    map(lambda x: datetime.strptime(x,'%b').strftime('%m') if x.isnumeric()==False else x)\n",
    "songs['Month'] = songs['Month'].astype(int)\n",
    "# change month string to month number\n",
    "\n",
    "songs['Year'] = songs['Year'].replace(92, 1992)\n",
    "# replace input mistake\n",
    "\n",
    "# change Length Duration column to int\n",
    "\n"
   ]
  },
  {
   "cell_type": "code",
   "execution_count": 5,
   "metadata": {},
   "outputs": [],
   "source": [
    "# Question 2 part 1: drop columns & rows with 50% null values\n",
    "\n",
    "songs.dropna(subset=[\"Title\",\"Year\",\"Artist\",\"Top Genre\"],inplace=True)\n",
    "# the rows with null values for Title and Year were not very many, and had several null values in the numeric column as well\n",
    "#songs.drop(columns =['Danceability','Valence'],inplace=True)\n",
    "# the columns dropped had over 50% null values"
   ]
  },
  {
   "cell_type": "code",
   "execution_count": null,
   "metadata": {},
   "outputs": [],
   "source": [
    "# Descriptive statistics for each column\n",
    "songs.describe()"
   ]
  },
  {
   "cell_type": "code",
   "execution_count": 23,
   "metadata": {},
   "outputs": [],
   "source": [
    "#impute missing values\n",
    "from datetime import datetime, date"
   ]
  },
  {
   "cell_type": "code",
   "execution_count": 16,
   "metadata": {},
   "outputs": [],
   "source": [
    "# create a date column\n",
    "songs['Day'] = 1\n",
    "songs['Date'] = pd.to_datetime(songs[['Year','Month','Day']])"
   ]
  },
  {
   "cell_type": "code",
   "execution_count": 24,
   "metadata": {},
   "outputs": [],
   "source": [
    "# create age column\n",
    "today = date.today()\n",
    "\n",
    "songs['Age'] = songs['Date'].apply(\n",
    "    lambda x: today.year - x.year -\n",
    "    ((today.month, today.day) < (x.month, x.day))\n",
    ")"
   ]
  },
  {
   "cell_type": "code",
   "execution_count": null,
   "metadata": {},
   "outputs": [],
   "source": [
    "# drop year, month, day \n",
    "songs.drop(columns = ['Year','Month','Day','Date'],inplace=True)\n"
   ]
  },
  {
   "cell_type": "code",
   "execution_count": 51,
   "metadata": {},
   "outputs": [],
   "source": [
    "# get dummy variables\n",
    "dummy_genres = pd.get_dummies(songs['Top Genre'])\n",
    "songs_with_dummy_genres = pd.concat([songs,dummy_genres],axis=1)\n",
    "songs_with_dummy_genres.drop(columns = 'Top Genre',inplace=True)\n",
    "\n",
    "dummy_artists = pd.get_dummies(songs['Artist'])\n",
    "songs_with_dummies = pd.concat([songs_with_dummy_genres,dummy_artists],axis=1)\n",
    "songs_with_dummies.drop(columns = 'Artist',inplace=True)"
   ]
  },
  {
   "cell_type": "code",
   "execution_count": 54,
   "metadata": {},
   "outputs": [],
   "source": [
    "# end "
   ]
  }
 ],
 "metadata": {
  "kernelspec": {
   "display_name": "Python 3.9.12 ('base')",
   "language": "python",
   "name": "python3"
  },
  "language_info": {
   "codemirror_mode": {
    "name": "ipython",
    "version": 3
   },
   "file_extension": ".py",
   "mimetype": "text/x-python",
   "name": "python",
   "nbconvert_exporter": "python",
   "pygments_lexer": "ipython3",
   "version": "3.9.12"
  },
  "orig_nbformat": 4,
  "vscode": {
   "interpreter": {
    "hash": "d7288e82646d3164eca24130947288f8779d11454649f2c02a5dfc42af7f324c"
   }
  }
 },
 "nbformat": 4,
 "nbformat_minor": 2
}
